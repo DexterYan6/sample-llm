{
 "cells": [
  {
   "cell_type": "code",
   "execution_count": 18,
   "metadata": {},
   "outputs": [
    {
     "name": "stderr",
     "output_type": "stream",
     "text": [
      "c:\\Users\\Dexter\\Documents\\GitHub\\sample-chatbot\\venv\\Lib\\site-packages\\huggingface_hub\\file_download.py:1132: FutureWarning: `resume_download` is deprecated and will be removed in version 1.0.0. Downloads always resume when possible. If you want to force a new download, use `force_download=True`.\n",
      "  warnings.warn(\n"
     ]
    },
    {
     "name": "stdout",
     "output_type": "stream",
     "text": [
      "Task Decomposition is a technique that breaks down complicated tasks into smaller, more manageable steps. It involves instructing a model to \"think step by step\" (Chain of Thought) to decompose hard tasks into simpler ones.\n",
      "\n",
      "\n",
      "```json\n",
      "{\n",
      "  \"thoughts\": {\n",
      "    \"text\": \"Dogs have specific dietary needs.\",\n",
      "    \"reasoning\": \"Based on general knowledge about dog nutrition.\",\n",
      "    \"plan\": \"- Research common dog foods.\\n- Consider canine nutritional requirements.\\n- Identify popular dog food types (e.g., kibble, raw).\",\n",
      "    \"criticism\": \"More information about individual dog breeds' dietary needs would be helpful.\",\n",
      "    \"speak\": \"To provide a comprehensive answer, I'd like to know what type of dogs you're referring to.\"\n",
      "  },\n",
      "  \"command\": {\n",
      "    \"name\": \"ask_dog_food_type\",\n",
      "    \"args\": {\n",
      "      \"dog_breed\": \"{{user input text}}\"\n",
      "    }\n",
      "  }\n",
      "}\n",
      "```\n"
     ]
    }
   ],
   "source": [
    "import bs4\n",
    "from langchain_chroma import Chroma\n",
    "from langchain_core.runnables import RunnablePassthrough\n",
    "from langchain_core.output_parsers import StrOutputParser\n",
    "from langchain_community.document_loaders import WebBaseLoader\n",
    "from langchain.embeddings import HuggingFaceEmbeddings\n",
    "from langchain_ollama import ChatOllama\n",
    "from langchain.prompts import PromptTemplate\n",
    "from langchain_text_splitters import RecursiveCharacterTextSplitter\n",
    "\n",
    "# from langchain_core.prompts import ChatPromptTemplate\n",
    "# from langchain_ollama.llms import OllamaLLM\n",
    "# from langchain.llms import CTransformers\n",
    "\n",
    "#embeddings\n",
    "embeddings=HuggingFaceEmbeddings(model_name='sentence-transformers/all-MiniLM-L6-v2')\n",
    "\n",
    "prompt = PromptTemplate (\n",
    "    input_variables=[\"context\", \"question\"],\n",
    "    template=\"\"\"\n",
    "    You are an assistant for question-answering tasks. \n",
    "    Use documentation to answer the question.\n",
    "    If you don't know the answer, just say you don't know.\n",
    "    Be as concise as possible.\n",
    "    {context}\n",
    "    Question: {question}\n",
    "    \"\"\"\n",
    ")\n",
    "\n",
    "loader = WebBaseLoader(\n",
    "    web_paths=(\"https://lilianweng.github.io/posts/2023-06-23-agent/\",),\n",
    "    bs_kwargs=dict(\n",
    "        parse_only=bs4.SoupStrainer(\n",
    "            class_=(\"post-content\", \"post-title\", \"post-header\")\n",
    "        )\n",
    "    ),\n",
    ")\n",
    "docs = loader.load()\n",
    "\n",
    "text_splitter = RecursiveCharacterTextSplitter(chunk_size=1000, chunk_overlap=200)\n",
    "splits = text_splitter.split_documents(docs)\n",
    "vectorstore = Chroma.from_documents(documents=splits, embedding=embeddings)\n",
    "retriever = vectorstore.as_retriever()\n",
    "\n",
    "llm = ChatOllama (\n",
    "      model=\"llama3.1:8b\",\n",
    "      base_url=\"http://127.0.0.1:11434\",\n",
    "      temperature=0.3\n",
    "      )\n",
    "\n",
    "def format_docs(docs):\n",
    "    return \"\\n\\n\".join(doc.page_content for doc in docs)\n",
    "    \n",
    "rag_chain = (\n",
    "    {\"context\": retriever | format_docs, \"question\": RunnablePassthrough()}\n",
    "    | prompt\n",
    "    | llm\n",
    "    | StrOutputParser()\n",
    ")\n",
    "\n",
    "print(rag_chain.invoke(\"What is Task Decomposition?\"))\n",
    "print(\"\\n\")\n",
    "print(rag_chain.invoke(\"What do dogs like to eat?\"))\n",
    "\n"
   ]
  },
  {
   "cell_type": "code",
   "execution_count": null,
   "metadata": {},
   "outputs": [],
   "source": []
  }
 ],
 "metadata": {
  "kernelspec": {
   "display_name": "venv",
   "language": "python",
   "name": "python3"
  },
  "language_info": {
   "codemirror_mode": {
    "name": "ipython",
    "version": 3
   },
   "file_extension": ".py",
   "mimetype": "text/x-python",
   "name": "python",
   "nbconvert_exporter": "python",
   "pygments_lexer": "ipython3",
   "version": "3.12.3"
  }
 },
 "nbformat": 4,
 "nbformat_minor": 2
}
